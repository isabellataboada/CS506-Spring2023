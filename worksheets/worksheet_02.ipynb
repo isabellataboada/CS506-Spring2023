{
 "cells": [
  {
   "attachments": {},
   "cell_type": "markdown",
   "metadata": {},
   "source": [
    "# Worksheet 02\n",
    "\n",
    "Name:  Isabella Taboada \\\n",
    "UID: U52535262\n",
    "\n",
    "### Topics\n",
    "\n",
    "- Effective Programming\n",
    "\n",
    "### Effective Programming\n",
    "\n",
    "a) What is a drawback of the top down approach?"
   ]
  },
  {
   "cell_type": "markdown",
   "metadata": {},
   "source": [
    "You don't get runnable, testable code until the end."
   ]
  },
  {
   "cell_type": "markdown",
   "metadata": {},
   "source": [
    "b) What is a drawback of the bottom up approach?"
   ]
  },
  {
   "cell_type": "markdown",
   "metadata": {},
   "source": [
    "Requires good organization, which may be difficult if you do not know everything you need upfront."
   ]
  },
  {
   "cell_type": "markdown",
   "metadata": {},
   "source": [
    "c) What are 3 things you can do to have a better debugging experience?"
   ]
  },
  {
   "cell_type": "markdown",
   "metadata": {},
   "source": [
    "1. Don't panic, take time to understand the bug and diagnose the problem\n",
    "2. Read the error, see where it occured and try to see if its the cause or a symptom of a larger issue\n",
    "3. Re-read your code, try to trace through the code and reproduce the error"
   ]
  },
  {
   "attachments": {},
   "cell_type": "markdown",
   "metadata": {},
   "source": [
    "d) (Optional) Follow along with the live coding. You can write your code here:"
   ]
  },
  {
   "cell_type": "code",
   "execution_count": 1,
   "metadata": {},
   "outputs": [],
   "source": [
    "class Board():\n",
    "    def __init__(self):\n",
    "        self.queen = \"Q\"\n",
    "        self.blank = \"-\"\n",
    "        self.board = [[\"-\" for _ in range(8)] for _ in range(8)]\n",
    "\n",
    "    def __repr__(self):\n",
    "        return \"\\n\".join([\" \".join(x) for x in self.board])\n",
    "\n",
    "    def is_queen(self, row, col):\n",
    "        #this is good practice because then we only have to change queen symbol in one location\n",
    "        self.board[row][col] == self.queen\n",
    "\n",
    "    def is_valid_row(self, row, col):\n",
    "        for j in range(8):\n",
    "            if self.is_queen(row, j):\n",
    "                return False\n",
    "        return True\n",
    "\n",
    "    def is_valid_col(self, row, col):\n",
    "        for i in range(8):\n",
    "            if self.is_queen(i, col):\n",
    "                return False\n",
    "        return True\n",
    "\n",
    "    def is_on_board(self, row, col):\n",
    "        return row >= 0 and row < 8 and col >= 0 and col < 8\n",
    "\n",
    "    def is_valid_diag(self, row, col):\n",
    "        for i in range(8):\n",
    "            if self.is_queen(row - i, col - i) :\n",
    "                return False\n",
    "            if self.is_queen(row +i, col - i) :\n",
    "                return False\n",
    "            if self.is_queen(row - i, col + i) :\n",
    "                return False\n",
    "            if self.is_queen(row + i, col + i) :\n",
    "                return False\n",
    "\n",
    "\n",
    "    def is_valid_move(self, row, col):\n",
    "        if self.num_queens() > 8:\n",
    "            return False\n",
    "        if not self.is_valid_row(row, col):\n",
    "            return False\n",
    "        if not self.is_valid_col(row, col):\n",
    "            return False\n",
    "        if not self.is_valid_diag(row, col):\n",
    "            return False\n",
    "        \n",
    "        return True\n",
    "\n",
    "    def set_queen_at(self, row, col):\n",
    "        self.board[row][col] = self.queen\n",
    "\n",
    "    def unset_queen_on(self, row):\n",
    "        self.board[row] = [\"-\" for _ in range(8)]\n",
    "\n",
    "    def find_queen_on(self, row):\n",
    "        for col in range(8):\n",
    "            if self.board[row][col] == \"Q\":\n",
    "                return col\n",
    "        raise ValueError(\"Programmer Error\")\n",
    "\n",
    "    \n",
    "    def search(self):\n",
    "        row = 0\n",
    "        col = 0\n",
    "        while row < 8:\n",
    "            if self.is_valid_move(row, col):\n",
    "                self.set_queen_at(row,col)\n",
    "                row += 1\n",
    "                col = 0\n",
    "            else:\n",
    "                col += 1\n",
    "                if col >= 8:\n",
    "                    #backtrack\n",
    "                    col = self.find_queen_on(row - 1) + 1\n",
    "                    self.unset_queen_on(row -1)\n",
    "                    row -= 1\n",
    "        #found a solution\n",
    "        print(self)\n",
    "\n",
    "board = Board()\n",
    "#print(board)\n",
    "#print()\n",
    "#board.search()"
   ]
  }
 ],
 "metadata": {
  "kernelspec": {
   "display_name": "Python 3.8.9 64-bit",
   "language": "python",
   "name": "python3"
  },
  "language_info": {
   "codemirror_mode": {
    "name": "ipython",
    "version": 3
   },
   "file_extension": ".py",
   "mimetype": "text/x-python",
   "name": "python",
   "nbconvert_exporter": "python",
   "pygments_lexer": "ipython3",
   "version": "3.8.9"
  },
  "orig_nbformat": 4,
  "vscode": {
   "interpreter": {
    "hash": "31f2aee4e71d21fbe5cf8b01ff0e069b9275f58929596ceb00d14d90e3e16cd6"
   }
  }
 },
 "nbformat": 4,
 "nbformat_minor": 2
}
