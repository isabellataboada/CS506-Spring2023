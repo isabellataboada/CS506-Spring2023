{
 "cells": [
  {
   "attachments": {},
   "cell_type": "markdown",
   "metadata": {},
   "source": [
    "# Worksheet 07\n",
    "\n",
    "Name:  Isabella Taboada \n",
    "\n",
    "UID: U52535262\n",
    "\n",
    "### Topics\n",
    "\n",
    "- Soft Clustering\n",
    "- Clustering Aggregation\n",
    "\n",
    "### Probability Review\n",
    "\n",
    "Read through [the following](https://medium.com/@gallettilance/overview-of-probability-3272b72c82c8)\n",
    "\n",
    "### Soft Clustering\n",
    "\n",
    "We generate 10 data points that come from a normal distribution with mean 5 and variance 1."
   ]
  },
  {
   "cell_type": "code",
   "execution_count": 1,
   "metadata": {},
   "outputs": [
    {
     "name": "stdout",
     "output_type": "stream",
     "text": [
      "[3.5045606404655936, 5.773890042333923, 3.3968450235931655, 3.28434038780643, 5.490848786180199, 3.948623735613732, 5.532154149115366, 4.128485290160749, 5.085254588992182, 5.48503445927929]\n"
     ]
    }
   ],
   "source": [
    "import random\n",
    "import numpy as np\n",
    "from sklearn.cluster import KMeans\n",
    "\n",
    "mean = 5\n",
    "stdev = 1\n",
    "\n",
    "c1 = np.random.normal(mean, stdev, 10).tolist()\n",
    "print(c1)"
   ]
  },
  {
   "cell_type": "markdown",
   "metadata": {},
   "source": [
    "a) Generate 10 more data points, this time coming from a normal distribution with mean 8 and variance 1."
   ]
  },
  {
   "cell_type": "code",
   "execution_count": 2,
   "metadata": {},
   "outputs": [
    {
     "name": "stdout",
     "output_type": "stream",
     "text": [
      "[8.568676810586657, 7.6681013382582135, 9.211109141267373, 8.68018591459764, 7.197905140910839, 8.465951522731926, 7.166956010115087, 7.864429146961898, 5.939649812457912, 7.591850617554125]\n"
     ]
    }
   ],
   "source": [
    "mean = 8\n",
    "stdev = 1\n",
    "\n",
    "c2 = np.random.normal(mean, stdev, 10).tolist()\n",
    "print(c2)"
   ]
  },
  {
   "cell_type": "markdown",
   "metadata": {},
   "source": [
    "b) Flip a fair coin 10 times. If the coin lands on H, then pick the last data point of `c1` and remove it from `c1`, if T then pick the last data point from `c2` and remove it from `c2`. Add these 10 points to a list called `data`."
   ]
  },
  {
   "cell_type": "code",
   "execution_count": 3,
   "metadata": {},
   "outputs": [
    {
     "name": "stdout",
     "output_type": "stream",
     "text": [
      "[7.591850617554125, 5.48503445927929, 5.939649812457912, 7.864429146961898, 5.085254588992182, 7.166956010115087, 8.465951522731926, 4.128485290160749, 7.197905140910839, 5.532154149115366]\n"
     ]
    }
   ],
   "source": [
    "data = []\n",
    "for i in range(10):\n",
    "    # flip coin\n",
    "    coin_output = random.choice([0, 1])\n",
    "    if coin_output == 0:\n",
    "        p1 = c1.pop()\n",
    "        data.append(p1)\n",
    "    else:\n",
    "        p2 = c2.pop()\n",
    "        data.append(p2)\n",
    "print(data)"
   ]
  },
  {
   "cell_type": "markdown",
   "metadata": {},
   "source": [
    "c) This `data` is a Gaussian Mixture Distribution with 2 mixture components. Over the next few questions we will walk through the GMM algorithm to see if we can uncover the parameters we used to generate this data. First, please list all these parameters of the GMM that created `data` and the values we know they have."
   ]
  },
  {
   "attachments": {},
   "cell_type": "markdown",
   "metadata": {},
   "source": [
    "For c1: mean = 5 and stdev = 1 \n",
    "For c2: mean = 8 and stdev = 1"
   ]
  },
  {
   "cell_type": "markdown",
   "metadata": {},
   "source": [
    "d) Let's assume there are two mixture components (note: we could plot the data and make the observation that there are two clusters). The EM algorithm asks us to start with a random `mean_j`, `variance_j`, `P(C_j)` for each component j. One method we could use to find sensible values for these is to apply K means with k=2 here.\n",
    "\n",
    "1. the centroids would be the estimates of the `mean_j`\n",
    "2. the intra-cluster variance could be the estimate of `variance_j`\n",
    "3. the proportion of points in each cluster could be the estimate of `P(C_j)`\n",
    "\n",
    "Go through this process and list the parameter estimates it gives. Are they close or far from the true values?"
   ]
  },
  {
   "cell_type": "code",
   "execution_count": 4,
   "metadata": {},
   "outputs": [
    {
     "name": "stdout",
     "output_type": "stream",
     "text": [
      "[7.591850617554125, 7.864429146961898, 7.166956010115087, 8.465951522731926, 7.197905140910839]\n",
      "[5.48503445927929, 5.939649812457912, 5.085254588992182, 4.128485290160749, 5.532154149115366]\n",
      "P(C_1) = 0.5,  P(C_2) = 0.5\n",
      "mean_1 = 7.657418487654775,  mean_2 = 5.2341156600011\n",
      "var_1 = 0.2305168370355112,  var_2 = 0.37882875165658153\n"
     ]
    },
    {
     "name": "stderr",
     "output_type": "stream",
     "text": [
      "/Users/isa/Library/Python/3.8/lib/python/site-packages/sklearn/cluster/_kmeans.py:870: FutureWarning: The default value of `n_init` will change from 10 to 'auto' in 1.4. Set the value of `n_init` explicitly to suppress the warning\n",
      "  warnings.warn(\n"
     ]
    }
   ],
   "source": [
    "kmeans = KMeans(2, init='k-means++').fit(X=np.array(data).reshape(-1, 1))\n",
    "\n",
    "c1 = [x[0] for x in filter(lambda x: x[1] == 0, zip(data, kmeans.labels_))]\n",
    "print(c1)\n",
    "c2 = [x[0] for x in filter(lambda x: x[1] == 1, zip(data, kmeans.labels_))]\n",
    "print(c2)\n",
    "\n",
    "prob_c = [len(c1) / (len(c1) + len(c2)), len(c2) / (len(c1) + len(c2))]\n",
    "mean = [sum(c1)/len(c1), sum(c2)/len(c2)]\n",
    "var = [ sum(map(lambda x : (x - mean[0])**2, c1)) / len(c1) , sum(map(lambda x : (x - mean[1])**2, c2)) / len(c2) ]\n",
    "\n",
    "print(\"P(C_1) = \" + str(prob_c[0]) + \",  P(C_2) = \" + str(prob_c[1]))\n",
    "print(\"mean_1 = \" + str(mean[0]) + \",  mean_2 = \" + str(mean[1]))\n",
    "print(\"var_1 = \" + str(var[0]) + \",  var_2 = \" + str(var[1]))"
   ]
  },
  {
   "attachments": {},
   "cell_type": "markdown",
   "metadata": {},
   "source": [
    "The estimated values are pretty close to the true values."
   ]
  },
  {
   "cell_type": "markdown",
   "metadata": {},
   "source": [
    "e) For each data point, compute `P(C_j | X_i)`. Comment on which cluster you think each point belongs to based on the estimated probabilities. How does that compare to the truth?"
   ]
  },
  {
   "cell_type": "code",
   "execution_count": 5,
   "metadata": {},
   "outputs": [
    {
     "name": "stdout",
     "output_type": "stream",
     "text": [
      "point =  7.591850617554125\n",
      "probability of observing that point if it came from cluster 0 =  1.6620307562569363\n",
      "probability of observing that point if it came from cluster 1 =  4.085623174135405e-09\n",
      "point =  5.48503445927929\n",
      "probability of observing that point if it came from cluster 0 =  8.976215112903034e-20\n",
      "probability of observing that point if it came from cluster 1 =  0.845671721534426\n",
      "point =  5.939649812457912\n",
      "probability of observing that point if it came from cluster 0 =  1.5139851833823946e-12\n",
      "probability of observing that point if it came from cluster 1 =  0.1858990435117845\n",
      "point =  7.864429146961898\n",
      "probability of observing that point if it came from cluster 0 =  1.1563463823525324\n",
      "probability of observing that point if it came from cluster 1 =  3.580888914823784e-11\n",
      "point =  5.085254588992182\n",
      "probability of observing that point if it came from cluster 0 =  1.5920902498743022e-27\n",
      "probability of observing that point if it came from cluster 1 =  0.9748490011791384\n",
      "point =  7.166956010115087\n",
      "probability of observing that point if it came from cluster 0 =  0.17996639328978617\n",
      "probability of observing that point if it came from cluster 1 =  2.3426576607146736e-06\n",
      "point =  8.465951522731926\n",
      "probability of observing that point if it came from cluster 0 =  0.0036878461410740013\n",
      "probability of observing that point if it came from cluster 1 =  1.6537367677451373e-16\n",
      "point =  4.128485290160749\n",
      "probability of observing that point if it came from cluster 0 =  2.22743402270403e-51\n",
      "probability of observing that point if it came from cluster 1 =  0.014887514308213282\n",
      "point =  7.197905140910839\n",
      "probability of observing that point if it came from cluster 0 =  0.2373217860100604\n",
      "probability of observing that point if it came from cluster 1 =  1.538979023629748e-06\n",
      "point =  5.532154149115366\n",
      "probability of observing that point if it came from cluster 0 =  6.034211392762843e-19\n",
      "probability of observing that point if it came from cluster 1 =  0.7727923872076371\n",
      "7.591850617554125\n",
      "Probability of coming from C_1 = 0.9999999975417885\n",
      "Probability of coming from C_2 = 2.458211527501044e-09\n",
      "\n",
      "5.48503445927929\n",
      "Probability of coming from C_1 = 1.0614302080027192e-19\n",
      "Probability of coming from C_2 = 1.0\n",
      "\n",
      "5.939649812457912\n",
      "Probability of coming from C_1 = 8.144125729587684e-12\n",
      "Probability of coming from C_2 = 0.9999999999918558\n",
      "\n",
      "7.864429146961898\n",
      "Probability of coming from C_1 = 0.9999999999690327\n",
      "Probability of coming from C_2 = 3.0967268712578516e-11\n",
      "\n",
      "5.085254588992182\n",
      "Probability of coming from C_1 = 1.6331660061697486e-27\n",
      "Probability of coming from C_2 = 1.0\n",
      "\n",
      "7.166956010115087\n",
      "Probability of coming from C_1 = 0.9999869829743017\n",
      "Probability of coming from C_2 = 1.3017025698278833e-05\n",
      "\n",
      "8.465951522731926\n",
      "Probability of coming from C_1 = 0.9999999999999551\n",
      "Probability of coming from C_2 = 4.4842889439618815e-14\n",
      "\n",
      "4.128485290160749\n",
      "Probability of coming from C_1 = 1.4961759072669226e-49\n",
      "Probability of coming from C_2 = 1.0\n",
      "\n",
      "7.197905140910839\n",
      "Probability of coming from C_1 = 0.9999935152643605\n",
      "Probability of coming from C_2 = 6.484735639451096e-06\n",
      "\n",
      "5.532154149115366\n",
      "Probability of coming from C_1 = 7.808321475016738e-19\n",
      "Probability of coming from C_2 = 1.0\n",
      "\n"
     ]
    }
   ],
   "source": [
    "from scipy.stats import norm\n",
    "\n",
    "prob_c0_x = [] # P(C_0 | X_i)\n",
    "prob_c1_x = [] # P(C_1 | X_i)\n",
    "prob_x = [] # P(X_i)\n",
    "\n",
    "k = 2\n",
    "\n",
    "for p in data:\n",
    "    print(\"point = \", p)\n",
    "    pdf_i = []\n",
    "\n",
    "    for j in range(k):\n",
    "        # P(X_i | C_j)\n",
    "        pdf_i.append(norm.pdf(p, mean[j], var[j]))\n",
    "        print(\"probability of observing that point if it came from cluster \" + str(j) + \" = \", pdf_i[j])\n",
    "        # P(C_j) already computed\n",
    "        prob_c[j]\n",
    "\n",
    "    # P(X_i) = P(C_0)P(X_i | C_0) + P(C_1)P(X_i | C_1)\n",
    "    prob_x = prob_c[0] * pdf_i[0] + prob_c[1] * pdf_i[1]\n",
    "\n",
    "    # P(C_j | X_i) = P(X_i | C_j)P(C_j) / P(X_i)\n",
    "    prob_c0_x.append(pdf_i[0] * prob_c[0] / prob_x)\n",
    "    prob_c1_x.append(pdf_i[1] * prob_c[1] / prob_x)\n",
    "\n",
    "probs = zip(data, prob_c0_x, prob_c1_x)\n",
    "for p in probs:\n",
    "    print(p[0])\n",
    "    print(\"Probability of coming from C_1 = \" + str(p[1]))\n",
    "    print(\"Probability of coming from C_2 = \" + str(p[2]))\n",
    "    print()"
   ]
  },
  {
   "cell_type": "markdown",
   "metadata": {},
   "source": [
    "f) Having computed `P(C_j | X_i)`, update the estimates of `mean_j`, `var_j`, and `P(C_j)`. How different are these values from the original ones you got from K means? briefly comment."
   ]
  },
  {
   "cell_type": "code",
   "execution_count": 7,
   "metadata": {},
   "outputs": [
    {
     "name": "stdout",
     "output_type": "stream",
     "text": [
      "P(C_1) = 0.4999980495757582,  P(C_2) = 0.5000019504242417\n",
      "mean_1 = 7.657420360527279,  mean_2 = 5.234123240043493\n",
      "var_1 = 0.23051683613395962,  var_2 = 0.3788420041934474\n"
     ]
    }
   ],
   "source": [
    "prob_c = [sum(prob_c0_x) / len(prob_c0_x), sum(prob_c1_x) / len(prob_c1_x)]\n",
    "mean = [sum([x[0] * x[1] for x in zip(prob_c0_x, data)]) / sum(prob_c0_x), sum([x[0] * x[1] for x in zip(prob_c1_x, data)]) / sum(prob_c1_x)]\n",
    "var = [sum([prob_c0_x[i] * (data[i] - mean[0])**2 for i in range(len(data))]) / sum(prob_c0_x), sum([prob_c1_x[i] * (data[i] - mean[1])**2 for i in range(len(data))]) / sum(prob_c1_x)]\n",
    "\n",
    "print(\"P(C_1) = \" + str(prob_c[0]) + \",  P(C_2) = \" + str(prob_c[1]))\n",
    "print(\"mean_1 = \" + str(mean[0]) + \",  mean_2 = \" + str(mean[1]))\n",
    "print(\"var_1 = \" + str(var[0]) + \",  var_2 = \" + str(var[1]))"
   ]
  },
  {
   "attachments": {},
   "cell_type": "markdown",
   "metadata": {},
   "source": [
    "The values are pretty similar to the original ones we got from K means"
   ]
  },
  {
   "cell_type": "markdown",
   "metadata": {},
   "source": [
    "g) Update `P(C_j | X_i)`. Comment on any differences or lack thereof you observe."
   ]
  },
  {
   "cell_type": "code",
   "execution_count": 8,
   "metadata": {},
   "outputs": [
    {
     "name": "stdout",
     "output_type": "stream",
     "text": [
      "7.591850617554125\n",
      "Probability of coming from C_1 = 0.99999999753821\n",
      "Probability of coming from C_2 = 2.461789951939708e-09\n",
      "\n",
      "5.48503445927929\n",
      "Probability of coming from C_1 = 1.0613470713910808e-19\n",
      "Probability of coming from C_2 = 1.0\n",
      "\n",
      "5.939649812457912\n",
      "Probability of coming from C_1 = 8.142560799729226e-12\n",
      "Probability of coming from C_2 = 0.9999999999918574\n",
      "\n",
      "7.864429146961898\n",
      "Probability of coming from C_1 = 0.9999999999689771\n",
      "Probability of coming from C_2 = 3.102277610002817e-11\n",
      "\n",
      "5.085254588992182\n",
      "Probability of coming from C_1 = 1.6330655717117362e-27\n",
      "Probability of coming from C_2 = 1.0\n",
      "\n",
      "7.166956010115087\n",
      "Probability of coming from C_1 = 0.999986969914103\n",
      "Probability of coming from C_2 = 1.3030085897101148e-05\n",
      "\n",
      "8.465951522731926\n",
      "Probability of coming from C_1 = 0.999999999999955\n",
      "Probability of coming from C_2 = 4.4962374484528926e-14\n",
      "\n",
      "4.128485290160749\n",
      "Probability of coming from C_1 = 1.4956707586287229e-49\n",
      "Probability of coming from C_2 = 1.0\n",
      "\n",
      "7.197905140910839\n",
      "Probability of coming from C_1 = 0.9999935085637423\n",
      "Probability of coming from C_2 = 6.491436257727393e-06\n",
      "\n",
      "5.532154149115366\n",
      "Probability of coming from C_1 = 7.807654312449131e-19\n",
      "Probability of coming from C_2 = 1.0\n",
      "\n"
     ]
    }
   ],
   "source": [
    "prob_c0_x = []\n",
    "prob_c1_x = []\n",
    "\n",
    "for p in data:\n",
    "    pdf_i = [norm.pdf(p, mean[j], var[j]) for j in range(k)]\n",
    "    prob_x = prob_c[0] * pdf_i[0] + prob_c[1] * pdf_i[1]\n",
    "\n",
    "    prob_c0_x.append(pdf_i[0] * prob_c[0] / prob_x)\n",
    "    prob_c1_x.append(pdf_i[1] * prob_c[1] / prob_x)\n",
    "\n",
    "probs = zip(data, prob_c0_x, prob_c1_x)\n",
    "for p in probs:\n",
    "    print(p[0])\n",
    "    print(\"Probability of coming from C_1 = \" + str(p[1]))\n",
    "    print(\"Probability of coming from C_2 = \" + str(p[2]))\n",
    "    print()\n"
   ]
  },
  {
   "attachments": {},
   "cell_type": "markdown",
   "metadata": {},
   "source": [
    "The probabilities here are much higher/ more definitive."
   ]
  },
  {
   "cell_type": "markdown",
   "metadata": {},
   "source": [
    "h) Use `P(C_j | X_i)` to create a hard assignment - label each point as belonging to a specific cluster (0 or 1)"
   ]
  },
  {
   "cell_type": "code",
   "execution_count": 9,
   "metadata": {},
   "outputs": [
    {
     "name": "stdout",
     "output_type": "stream",
     "text": [
      "[0, 1, 1, 0, 1, 0, 0, 1, 0, 1]\n"
     ]
    }
   ],
   "source": [
    "labels = []\n",
    "\n",
    "for i in range(len(data)):\n",
    "    if prob_c0_x[i] > prob_c1_x[i]:\n",
    "        labels.append(0)\n",
    "    else:\n",
    "        labels.append(1)\n",
    "\n",
    "print(labels)"
   ]
  },
  {
   "cell_type": "markdown",
   "metadata": {},
   "source": [
    "### Clustering Aggregation\n",
    "\n",
    "| Point | C | P |\n",
    "|-------|---|---|\n",
    "| A     | 0 | a |\n",
    "| B     | 0 | b |\n",
    "| C     | 2 | b |\n",
    "| D     | 1 | c |\n",
    "| E     | 1 | d |\n",
    "\n",
    "a) Fill in the following table where for each pair of points determine whether C and P agree or disagree on how to cluster that pair."
   ]
  },
  {
   "cell_type": "markdown",
   "metadata": {},
   "source": [
    "| Pair | Disagreement |\n",
    "|------|--------------|\n",
    "| A  B |      ?       |\n",
    "| A  C |      ?       |\n",
    "| A  D |      ?       |\n",
    "| A  E |      ?       |\n",
    "| B  C |      ?       |\n",
    "| B  D |      ?       |\n",
    "| B  E |      ?       |\n",
    "| C  D |      ?       |\n",
    "| C  E |      ?       |\n",
    "| D  E |      ?       |\n"
   ]
  },
  {
   "cell_type": "markdown",
   "metadata": {},
   "source": [
    "As datasets become very large, this process can become computationally challenging.\n",
    "\n",
    "b) Given N points, what is the formula for the number of unique pairs of points one can create?"
   ]
  },
  {
   "cell_type": "markdown",
   "metadata": {},
   "source": []
  },
  {
   "cell_type": "markdown",
   "metadata": {},
   "source": [
    "Assume that clustering C clusters all points in the same cluster and clustering P clusters points as such:\n",
    "\n",
    "| Point | P |\n",
    "|-------|---|\n",
    "| A     | 0 |\n",
    "| B     | 0 |\n",
    "| C     | 0 |\n",
    "| D     | 1 |\n",
    "| E     | 1 |\n",
    "| F     | 2 |\n",
    "| G     | 2 |\n",
    "| H     | 2 |\n",
    "| I     | 2 |\n",
    "\n",
    "c) What is the maximum number of disagreements there could be for a dataset of this size? (use the formula from b)?"
   ]
  },
  {
   "cell_type": "markdown",
   "metadata": {},
   "source": []
  },
  {
   "cell_type": "markdown",
   "metadata": {},
   "source": [
    "d) If we look at cluster 0. There are (3 x 2) / 2 = 3 pairs that agree with C (since all points in C are in the same cluster). For each cluster, determine how many agreements there are. How many total agreements are there? How many disagreements does that mean there are between C and P?"
   ]
  },
  {
   "cell_type": "markdown",
   "metadata": {},
   "source": []
  },
  {
   "cell_type": "markdown",
   "metadata": {},
   "source": [
    "e) Assuming that filtering the dataset by cluster number is a computationally easy operation, describe an algorithm inspired by the above process that can efficiently compute disagreement distances on large datasets."
   ]
  },
  {
   "cell_type": "markdown",
   "metadata": {},
   "source": []
  }
 ],
 "metadata": {
  "kernelspec": {
   "display_name": "Python 3",
   "language": "python",
   "name": "python3"
  },
  "language_info": {
   "codemirror_mode": {
    "name": "ipython",
    "version": 3
   },
   "file_extension": ".py",
   "mimetype": "text/x-python",
   "name": "python",
   "nbconvert_exporter": "python",
   "pygments_lexer": "ipython3",
   "version": "3.8.9"
  },
  "orig_nbformat": 4,
  "vscode": {
   "interpreter": {
    "hash": "31f2aee4e71d21fbe5cf8b01ff0e069b9275f58929596ceb00d14d90e3e16cd6"
   }
  }
 },
 "nbformat": 4,
 "nbformat_minor": 2
}
